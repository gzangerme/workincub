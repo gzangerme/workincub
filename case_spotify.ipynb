{
 "cells": [
  {
   "cell_type": "markdown",
   "metadata": {
    "ExecuteTime": {
     "end_time": "2021-12-08T00:12:43.407665Z",
     "start_time": "2021-12-08T00:12:24.054272Z"
    }
   },
   "source": [
    "# <font color = 'orange'> Importando Bibliotecas </font>"
   ]
  },
  {
   "cell_type": "code",
   "execution_count": 2,
   "metadata": {
    "ExecuteTime": {
     "end_time": "2021-12-08T00:27:05.593744Z",
     "start_time": "2021-12-08T00:27:01.566817Z"
    }
   },
   "outputs": [],
   "source": [
    "import pandas as pd\n",
    "import seaborn as sns\n",
    "import numpy as np\n",
    "import sklearn\n",
    "\n",
    "import matplotlib.pyplot as plt\n",
    "import matplotlib as mpl\n",
    "mpl.rcParams['figure.figsize']=(20,5)\n",
    "%matplotlib inline\n",
    "\n",
    "import warnings\n",
    "warnings.filterwarnings('ignore')"
   ]
  },
  {
   "cell_type": "markdown",
   "metadata": {
    "ExecuteTime": {
     "end_time": "2021-12-08T00:28:15.648930Z",
     "start_time": "2021-12-08T00:28:15.644976Z"
    }
   },
   "source": [
    "# <font color = 'orange'> Briefing do case </font>"
   ]
  },
  {
   "cell_type": "markdown",
   "metadata": {
    "ExecuteTime": {
     "end_time": "2021-12-08T00:22:30.872481Z",
     "start_time": "2021-12-08T00:22:30.861634Z"
    }
   },
   "source": [
    "<img src=\"images/spotify.png\" alt=\"spotify\" width=\"400\" height=\"150\">\n"
   ]
  },
  {
   "cell_type": "markdown",
   "metadata": {},
   "source": [
    "\n",
    "***Quais atributos fazem uma musica virar um Hit? A partir de dados coletados do Spotify entre 2000 e 2010, conseguimos montar um modelo que pode prever se uma nova música lançada vai ser <font color =\"green\">\"Hit\"</font> ou vai <font color = \"red\">Floppar? </font>***\n",
    "\n",
    "***"
   ]
  },
  {
   "cell_type": "markdown",
   "metadata": {
    "ExecuteTime": {
     "end_time": "2021-12-08T01:24:48.250802Z",
     "start_time": "2021-12-08T01:24:48.246562Z"
    }
   },
   "source": [
    "# <font color = 'orange'> Resumo dos Dados </font>"
   ]
  },
  {
   "cell_type": "markdown",
   "metadata": {},
   "source": [
    "- **track:** Nome da musica.\n",
    "\n",
    "- **artist:** Nome do artista.\n",
    "\n",
    "- **uri:** identificador unico da musica.\n",
    "\n",
    "- **danceability:** A \"danceability\",descreve o quão adequada uma faixa é para dançar com base em uma combinação de elementos musicais, incluindo tempo, estabilidade do ritmo, força da batida e regularidade geral. Um valor de 0,0 é menos dançante e 1,0 é mais dançante.\n",
    "- **energy: Energia é uma medida de 0,0 a 1,0 e representa uma medida perceptual de intensidade e atividade. Normalmente,** as faixas energéticas parecem rápidas, altas e barulhentas. Por exemplo, death metal tem alta energia, enquanto um prelúdio de Bach tem pontuação baixa na escala. As características perceptivas que contribuem para este atributo incluem faixa dinâmica, intensidade percebida, timbre, taxa de início e entropia geral.\n",
    "\n",
    "- **key:** O tom geral estimado para cada musica. Os inteiros mapeiam para cada nota padrão.. E.X. 0 = C, 1 = C?/D?, 2 = D, e assim por diante. Se nenhuma chave for determinada, o valor é -1.\n",
    "\n",
    "- **loudness:** O volume geral de uma faixa em decibéis (dB). Os valores de sonoridade são calculados em toda a trilha e são úteis para comparar a sonoridade relativa das trilhas. Loudness é a qualidade de um som que é o principal correlato psicológico da força física (amplitude). Os valores típicos variam entre -60 e 0 db.\n",
    "\n",
    "- **mode:** Modo indica a modalidade (maior ou menor) de uma faixa, o tipo de escala da qual seu conteúdo melódico é derivado. Maior é representado por 1 e menor é 0.\n",
    "\n",
    "- **speechiness:** A fala detecta a presença de palavras faladas em uma faixa. Quanto mais exclusivamente falada for a gravação (por exemplo, talk show, audiolivro, poesia), mais próximo de 1,0 será o valor do atributo. Valores acima de 0,66 descrevem faixas que provavelmente são compostas inteiramente de palavras faladas. Valores entre 0,33 e 0,66 descrevem faixas que podem conter música e fala, em seções ou em camadas, incluindo casos como música rap. Valores abaixo de 0,33 provavelmente representam música e outras faixas não semelhantes à fala. \n",
    "\n",
    "- **acousticness:** Uma medida de confiança de 0,0 a 1,0 para saber se a faixa é acústica. 1.0 representa alta confiança de que a faixa é acústica. \n",
    "\n",
    "- **instrumentalness:** Prevê se uma faixa não contém vocais. Os sons “Ooh” e “aah” são tratados como instrumentais neste contexto. Faixas de rap ou palavra falada são claramente “vocais”. Quanto mais próximo o valor da instrumentalidade estiver de 1,0, maior será a probabilidade de a faixa não conter conteúdo vocal. Valores acima de 0,5 destinam-se a representar faixas instrumentais, mas a confiança é maior à medida que o valor se aproxima de 1,0. \n",
    "\n",
    "- **liveness:** Detecta a presença de um público na gravação. Valores de vivacidade mais altos representam um aumento na probabilidade de a trilha ter sido executada ao vivo. Um valor acima de 0,8 fornece grande probabilidade de que a faixa esteja ao vivo.\n",
    "\n",
    "- **valence:** Uma medida de 0,0 a 1,0 que descreve a positividade musical transmitida por uma faixa. Faixas com alta valência soam mais positivas (por exemplo, feliz, alegre, eufórico), enquanto faixas com baixa valência soam mais negativas (por exemplo, triste, deprimido, com raiva).\n",
    "\n",
    "- **tempo:** O tempo estimado geral de uma faixa em batidas por minuto (BPM). Na terminologia musical, o tempo é a velocidade ou ritmo de uma determinada peça e deriva diretamente da duração média do tempo.\n",
    "\n",
    "- **duration_ms:**  Duração da musica em ms.\n",
    "\n",
    "- **time_signature:** Uma estimativa de fórmula de compasso geral de uma faixa. A fórmula de compasso (medidor) é uma convenção notacional para especificar quantas batidas existem em cada barra (ou compasso).\n",
    "\n",
    "- **chorus_hit:** Esta é a melhor estimativa do autor de quando o refrão começaria para a faixa. É o carimbo de data / hora do início da terceira seção da faixa. Este recurso foi extraído dos dados recebidos pela chamada de API para análise de áudio dessa faixa específica.\n",
    "\n",
    "- **sections:** O número de seções de uma trilha específica. Este recurso foi extraído dos dados recebidos pela chamada de API para análise de áudio dessa faixa específica.\n",
    "\n",
    "- **target:** A variável de destino da trilha. Pode ser '0' ou '1'. '1' implica que esta música apareceu na lista semanal (publicada pela Billboards) das faixas do Hot-100 naquela década pelo menos uma vez e, portanto, é um 'hit'. '0' implica que a faixa é um 'flop'.\n",
    "\n",
    "      A condição do autor de uma faixa sendo 'flop' é a seguinte:\n",
    "\n",
    "        - A faixa não deve constar da lista de 'hits' dessa década.\n",
    "        - O artista da faixa não deve constar da lista de 'hits' dessa década.\n",
    "        - A faixa deve pertencer a um gênero que possa ser considerado não mainstream e / ou vanguardista.\n",
    "        - O gênero da faixa não deve ter uma música na lista de 'hits'.\n",
    "        - A pista deve ter 'US' como um de seus mercados.\n"
   ]
  },
  {
   "cell_type": "markdown",
   "metadata": {
    "ExecuteTime": {
     "end_time": "2021-12-08T00:35:16.484579Z",
     "start_time": "2021-12-08T00:35:16.479448Z"
    }
   },
   "source": [
    "# <font color = 'orange'> Ánalise Inicial dos Dados </font>"
   ]
  },
  {
   "cell_type": "code",
   "execution_count": 131,
   "metadata": {
    "ExecuteTime": {
     "end_time": "2021-12-08T14:50:44.562313Z",
     "start_time": "2021-12-08T14:50:44.225806Z"
    }
   },
   "outputs": [],
   "source": [
    "#importando dados CSV\n",
    "dados_anos_2000 = pd.read_csv('dataset-of-00s.csv')\n",
    "dados_anos_2010 = pd.read_csv('dataset-of-10s.csv')"
   ]
  },
  {
   "cell_type": "code",
   "execution_count": 132,
   "metadata": {
    "ExecuteTime": {
     "end_time": "2021-12-08T14:50:44.882840Z",
     "start_time": "2021-12-08T14:50:44.824722Z"
    }
   },
   "outputs": [
    {
     "data": {
      "text/html": [
       "<div>\n",
       "<style scoped>\n",
       "    .dataframe tbody tr th:only-of-type {\n",
       "        vertical-align: middle;\n",
       "    }\n",
       "\n",
       "    .dataframe tbody tr th {\n",
       "        vertical-align: top;\n",
       "    }\n",
       "\n",
       "    .dataframe thead th {\n",
       "        text-align: right;\n",
       "    }\n",
       "</style>\n",
       "<table border=\"1\" class=\"dataframe\">\n",
       "  <thead>\n",
       "    <tr style=\"text-align: right;\">\n",
       "      <th></th>\n",
       "      <th>track</th>\n",
       "      <th>artist</th>\n",
       "      <th>uri</th>\n",
       "      <th>danceability</th>\n",
       "      <th>energy</th>\n",
       "      <th>key</th>\n",
       "      <th>loudness</th>\n",
       "      <th>mode</th>\n",
       "      <th>speechiness</th>\n",
       "      <th>acousticness</th>\n",
       "      <th>instrumentalness</th>\n",
       "      <th>liveness</th>\n",
       "      <th>valence</th>\n",
       "      <th>tempo</th>\n",
       "      <th>duration_ms</th>\n",
       "      <th>time_signature</th>\n",
       "      <th>chorus_hit</th>\n",
       "      <th>sections</th>\n",
       "      <th>target</th>\n",
       "    </tr>\n",
       "  </thead>\n",
       "  <tbody>\n",
       "    <tr>\n",
       "      <th>0</th>\n",
       "      <td>Lucky Man</td>\n",
       "      <td>Montgomery Gentry</td>\n",
       "      <td>spotify:track:4GiXBCUF7H6YfNQsnBRIzl</td>\n",
       "      <td>0.578</td>\n",
       "      <td>0.471</td>\n",
       "      <td>4</td>\n",
       "      <td>-7.270</td>\n",
       "      <td>1</td>\n",
       "      <td>0.0289</td>\n",
       "      <td>0.368000</td>\n",
       "      <td>0.00000</td>\n",
       "      <td>0.159</td>\n",
       "      <td>0.532</td>\n",
       "      <td>133.061</td>\n",
       "      <td>196707</td>\n",
       "      <td>4</td>\n",
       "      <td>30.88059</td>\n",
       "      <td>13</td>\n",
       "      <td>1</td>\n",
       "    </tr>\n",
       "    <tr>\n",
       "      <th>1</th>\n",
       "      <td>On The Hotline</td>\n",
       "      <td>Pretty Ricky</td>\n",
       "      <td>spotify:track:1zyqZONW985Cs4osz9wlsu</td>\n",
       "      <td>0.704</td>\n",
       "      <td>0.854</td>\n",
       "      <td>10</td>\n",
       "      <td>-5.477</td>\n",
       "      <td>0</td>\n",
       "      <td>0.1830</td>\n",
       "      <td>0.018500</td>\n",
       "      <td>0.00000</td>\n",
       "      <td>0.148</td>\n",
       "      <td>0.688</td>\n",
       "      <td>92.988</td>\n",
       "      <td>242587</td>\n",
       "      <td>4</td>\n",
       "      <td>41.51106</td>\n",
       "      <td>10</td>\n",
       "      <td>1</td>\n",
       "    </tr>\n",
       "    <tr>\n",
       "      <th>2</th>\n",
       "      <td>Clouds Of Dementia</td>\n",
       "      <td>Candlemass</td>\n",
       "      <td>spotify:track:6cHZf7RbxXCKwEkgAZT4mY</td>\n",
       "      <td>0.162</td>\n",
       "      <td>0.836</td>\n",
       "      <td>9</td>\n",
       "      <td>-3.009</td>\n",
       "      <td>1</td>\n",
       "      <td>0.0473</td>\n",
       "      <td>0.000111</td>\n",
       "      <td>0.00457</td>\n",
       "      <td>0.174</td>\n",
       "      <td>0.300</td>\n",
       "      <td>86.964</td>\n",
       "      <td>338893</td>\n",
       "      <td>4</td>\n",
       "      <td>65.32887</td>\n",
       "      <td>13</td>\n",
       "      <td>0</td>\n",
       "    </tr>\n",
       "    <tr>\n",
       "      <th>3</th>\n",
       "      <td>Heavy Metal, Raise Hell!</td>\n",
       "      <td>Zwartketterij</td>\n",
       "      <td>spotify:track:2IjBPp2vMeX7LggzRN3iSX</td>\n",
       "      <td>0.188</td>\n",
       "      <td>0.994</td>\n",
       "      <td>4</td>\n",
       "      <td>-3.745</td>\n",
       "      <td>1</td>\n",
       "      <td>0.1660</td>\n",
       "      <td>0.000007</td>\n",
       "      <td>0.07840</td>\n",
       "      <td>0.192</td>\n",
       "      <td>0.333</td>\n",
       "      <td>148.440</td>\n",
       "      <td>255667</td>\n",
       "      <td>4</td>\n",
       "      <td>58.59528</td>\n",
       "      <td>9</td>\n",
       "      <td>0</td>\n",
       "    </tr>\n",
       "    <tr>\n",
       "      <th>4</th>\n",
       "      <td>I Got A Feelin'</td>\n",
       "      <td>Billy Currington</td>\n",
       "      <td>spotify:track:1tF370eYXUcWwkIvaq3IGz</td>\n",
       "      <td>0.630</td>\n",
       "      <td>0.764</td>\n",
       "      <td>2</td>\n",
       "      <td>-4.353</td>\n",
       "      <td>1</td>\n",
       "      <td>0.0275</td>\n",
       "      <td>0.363000</td>\n",
       "      <td>0.00000</td>\n",
       "      <td>0.125</td>\n",
       "      <td>0.631</td>\n",
       "      <td>112.098</td>\n",
       "      <td>193760</td>\n",
       "      <td>4</td>\n",
       "      <td>22.62384</td>\n",
       "      <td>10</td>\n",
       "      <td>1</td>\n",
       "    </tr>\n",
       "  </tbody>\n",
       "</table>\n",
       "</div>"
      ],
      "text/plain": [
       "                      track             artist  \\\n",
       "0                 Lucky Man  Montgomery Gentry   \n",
       "1            On The Hotline       Pretty Ricky   \n",
       "2        Clouds Of Dementia         Candlemass   \n",
       "3  Heavy Metal, Raise Hell!      Zwartketterij   \n",
       "4           I Got A Feelin'   Billy Currington   \n",
       "\n",
       "                                    uri  danceability  energy  key  loudness  \\\n",
       "0  spotify:track:4GiXBCUF7H6YfNQsnBRIzl         0.578   0.471    4    -7.270   \n",
       "1  spotify:track:1zyqZONW985Cs4osz9wlsu         0.704   0.854   10    -5.477   \n",
       "2  spotify:track:6cHZf7RbxXCKwEkgAZT4mY         0.162   0.836    9    -3.009   \n",
       "3  spotify:track:2IjBPp2vMeX7LggzRN3iSX         0.188   0.994    4    -3.745   \n",
       "4  spotify:track:1tF370eYXUcWwkIvaq3IGz         0.630   0.764    2    -4.353   \n",
       "\n",
       "   mode  speechiness  acousticness  instrumentalness  liveness  valence  \\\n",
       "0     1       0.0289      0.368000           0.00000     0.159    0.532   \n",
       "1     0       0.1830      0.018500           0.00000     0.148    0.688   \n",
       "2     1       0.0473      0.000111           0.00457     0.174    0.300   \n",
       "3     1       0.1660      0.000007           0.07840     0.192    0.333   \n",
       "4     1       0.0275      0.363000           0.00000     0.125    0.631   \n",
       "\n",
       "     tempo  duration_ms  time_signature  chorus_hit  sections  target  \n",
       "0  133.061       196707               4    30.88059        13       1  \n",
       "1   92.988       242587               4    41.51106        10       1  \n",
       "2   86.964       338893               4    65.32887        13       0  \n",
       "3  148.440       255667               4    58.59528         9       0  \n",
       "4  112.098       193760               4    22.62384        10       1  "
      ]
     },
     "execution_count": 132,
     "metadata": {},
     "output_type": "execute_result"
    }
   ],
   "source": [
    "#verificando primeiras 5 linhas do Dataset\n",
    "dados_anos_2000.head()"
   ]
  },
  {
   "cell_type": "code",
   "execution_count": 133,
   "metadata": {
    "ExecuteTime": {
     "end_time": "2021-12-08T14:50:45.543882Z",
     "start_time": "2021-12-08T14:50:45.535687Z"
    }
   },
   "outputs": [
    {
     "data": {
      "text/plain": [
       "(5872, 19)"
      ]
     },
     "execution_count": 133,
     "metadata": {},
     "output_type": "execute_result"
    }
   ],
   "source": [
    "#Tamanho e numero de colunas\n",
    "dados_anos_2000.shape"
   ]
  },
  {
   "cell_type": "code",
   "execution_count": 134,
   "metadata": {
    "ExecuteTime": {
     "end_time": "2021-12-08T14:50:46.174935Z",
     "start_time": "2021-12-08T14:50:46.161493Z"
    }
   },
   "outputs": [
    {
     "data": {
      "text/plain": [
       "track                object\n",
       "artist               object\n",
       "uri                  object\n",
       "danceability        float64\n",
       "energy              float64\n",
       "key                   int64\n",
       "loudness            float64\n",
       "mode                  int64\n",
       "speechiness         float64\n",
       "acousticness        float64\n",
       "instrumentalness    float64\n",
       "liveness            float64\n",
       "valence             float64\n",
       "tempo               float64\n",
       "duration_ms           int64\n",
       "time_signature        int64\n",
       "chorus_hit          float64\n",
       "sections              int64\n",
       "target                int64\n",
       "dtype: object"
      ]
     },
     "execution_count": 134,
     "metadata": {},
     "output_type": "execute_result"
    }
   ],
   "source": [
    "#tipos de dados no dataset\n",
    "dados_anos_2000.dtypes"
   ]
  },
  {
   "cell_type": "code",
   "execution_count": 135,
   "metadata": {
    "ExecuteTime": {
     "end_time": "2021-12-08T14:50:46.714528Z",
     "start_time": "2021-12-08T14:50:46.707227Z"
    }
   },
   "outputs": [
    {
     "data": {
      "text/plain": [
       "Index(['track', 'artist', 'uri', 'danceability', 'energy', 'key', 'loudness',\n",
       "       'mode', 'speechiness', 'acousticness', 'instrumentalness', 'liveness',\n",
       "       'valence', 'tempo', 'duration_ms', 'time_signature', 'chorus_hit',\n",
       "       'sections', 'target'],\n",
       "      dtype='object')"
      ]
     },
     "execution_count": 135,
     "metadata": {},
     "output_type": "execute_result"
    }
   ],
   "source": [
    "#Colunas no dataset\n",
    "dados_anos_2000.columns"
   ]
  },
  {
   "cell_type": "code",
   "execution_count": 136,
   "metadata": {
    "ExecuteTime": {
     "end_time": "2021-12-08T14:50:47.290897Z",
     "start_time": "2021-12-08T14:50:47.260578Z"
    }
   },
   "outputs": [],
   "source": [
    "results_drake = df_union.loc[df_union['artist'] == 'Drake']"
   ]
  },
  {
   "cell_type": "code",
   "execution_count": 137,
   "metadata": {
    "ExecuteTime": {
     "end_time": "2021-12-08T14:50:48.319808Z",
     "start_time": "2021-12-08T14:50:47.902651Z"
    }
   },
   "outputs": [
    {
     "data": {
      "image/png": "[encoded data removed]",
      "text/plain": [
       "<Figure size 360x360 with 1 Axes>"
      ]
     },
     "metadata": {
      "needs_background": "light"
     },
     "output_type": "display_data"
    }
   ],
   "source": [
    "fig, axs = plt.subplots(1, 1, figsize=(5, 5))\n",
    "\n",
    "sns.countplot(data=results_drake,x='target');"
   ]
  },
  {
   "cell_type": "markdown",
   "metadata": {},
   "source": [
    "***\n",
    "**Para ter um maior insumo de informações, vamos juntar os dados das musicas dos anos 2000 e 2010**\n",
    "***"
   ]
  },
  {
   "cell_type": "code",
   "execution_count": 138,
   "metadata": {
    "ExecuteTime": {
     "end_time": "2021-12-08T14:50:49.217369Z",
     "start_time": "2021-12-08T14:50:49.202895Z"
    }
   },
   "outputs": [],
   "source": [
    "#União dos dos datasets\n",
    "df_union = pd.concat([dados_anos_2000,dados_anos_2010])"
   ]
  },
  {
   "cell_type": "code",
   "execution_count": 139,
   "metadata": {
    "ExecuteTime": {
     "end_time": "2021-12-08T14:50:50.032781Z",
     "start_time": "2021-12-08T14:50:50.007913Z"
    }
   },
   "outputs": [
    {
     "data": {
      "text/html": [
       "<div>\n",
       "<style scoped>\n",
       "    .dataframe tbody tr th:only-of-type {\n",
       "        vertical-align: middle;\n",
       "    }\n",
       "\n",
       "    .dataframe tbody tr th {\n",
       "        vertical-align: top;\n",
       "    }\n",
       "\n",
       "    .dataframe thead th {\n",
       "        text-align: right;\n",
       "    }\n",
       "</style>\n",
       "<table border=\"1\" class=\"dataframe\">\n",
       "  <thead>\n",
       "    <tr style=\"text-align: right;\">\n",
       "      <th></th>\n",
       "      <th>track</th>\n",
       "      <th>artist</th>\n",
       "      <th>uri</th>\n",
       "      <th>danceability</th>\n",
       "      <th>energy</th>\n",
       "      <th>key</th>\n",
       "      <th>loudness</th>\n",
       "      <th>mode</th>\n",
       "      <th>speechiness</th>\n",
       "      <th>acousticness</th>\n",
       "      <th>instrumentalness</th>\n",
       "      <th>liveness</th>\n",
       "      <th>valence</th>\n",
       "      <th>tempo</th>\n",
       "      <th>duration_ms</th>\n",
       "      <th>time_signature</th>\n",
       "      <th>chorus_hit</th>\n",
       "      <th>sections</th>\n",
       "      <th>target</th>\n",
       "    </tr>\n",
       "  </thead>\n",
       "  <tbody>\n",
       "    <tr>\n",
       "      <th>0</th>\n",
       "      <td>Lucky Man</td>\n",
       "      <td>Montgomery Gentry</td>\n",
       "      <td>spotify:track:4GiXBCUF7H6YfNQsnBRIzl</td>\n",
       "      <td>0.578</td>\n",
       "      <td>0.471</td>\n",
       "      <td>4</td>\n",
       "      <td>-7.270</td>\n",
       "      <td>1</td>\n",
       "      <td>0.0289</td>\n",
       "      <td>0.368000</td>\n",
       "      <td>0.00000</td>\n",
       "      <td>0.159</td>\n",
       "      <td>0.532</td>\n",
       "      <td>133.061</td>\n",
       "      <td>196707</td>\n",
       "      <td>4</td>\n",
       "      <td>30.88059</td>\n",
       "      <td>13</td>\n",
       "      <td>1</td>\n",
       "    </tr>\n",
       "    <tr>\n",
       "      <th>1</th>\n",
       "      <td>On The Hotline</td>\n",
       "      <td>Pretty Ricky</td>\n",
       "      <td>spotify:track:1zyqZONW985Cs4osz9wlsu</td>\n",
       "      <td>0.704</td>\n",
       "      <td>0.854</td>\n",
       "      <td>10</td>\n",
       "      <td>-5.477</td>\n",
       "      <td>0</td>\n",
       "      <td>0.1830</td>\n",
       "      <td>0.018500</td>\n",
       "      <td>0.00000</td>\n",
       "      <td>0.148</td>\n",
       "      <td>0.688</td>\n",
       "      <td>92.988</td>\n",
       "      <td>242587</td>\n",
       "      <td>4</td>\n",
       "      <td>41.51106</td>\n",
       "      <td>10</td>\n",
       "      <td>1</td>\n",
       "    </tr>\n",
       "    <tr>\n",
       "      <th>2</th>\n",
       "      <td>Clouds Of Dementia</td>\n",
       "      <td>Candlemass</td>\n",
       "      <td>spotify:track:6cHZf7RbxXCKwEkgAZT4mY</td>\n",
       "      <td>0.162</td>\n",
       "      <td>0.836</td>\n",
       "      <td>9</td>\n",
       "      <td>-3.009</td>\n",
       "      <td>1</td>\n",
       "      <td>0.0473</td>\n",
       "      <td>0.000111</td>\n",
       "      <td>0.00457</td>\n",
       "      <td>0.174</td>\n",
       "      <td>0.300</td>\n",
       "      <td>86.964</td>\n",
       "      <td>338893</td>\n",
       "      <td>4</td>\n",
       "      <td>65.32887</td>\n",
       "      <td>13</td>\n",
       "      <td>0</td>\n",
       "    </tr>\n",
       "    <tr>\n",
       "      <th>3</th>\n",
       "      <td>Heavy Metal, Raise Hell!</td>\n",
       "      <td>Zwartketterij</td>\n",
       "      <td>spotify:track:2IjBPp2vMeX7LggzRN3iSX</td>\n",
       "      <td>0.188</td>\n",
       "      <td>0.994</td>\n",
       "      <td>4</td>\n",
       "      <td>-3.745</td>\n",
       "      <td>1</td>\n",
       "      <td>0.1660</td>\n",
       "      <td>0.000007</td>\n",
       "      <td>0.07840</td>\n",
       "      <td>0.192</td>\n",
       "      <td>0.333</td>\n",
       "      <td>148.440</td>\n",
       "      <td>255667</td>\n",
       "      <td>4</td>\n",
       "      <td>58.59528</td>\n",
       "      <td>9</td>\n",
       "      <td>0</td>\n",
       "    </tr>\n",
       "    <tr>\n",
       "      <th>4</th>\n",
       "      <td>I Got A Feelin'</td>\n",
       "      <td>Billy Currington</td>\n",
       "      <td>spotify:track:1tF370eYXUcWwkIvaq3IGz</td>\n",
       "      <td>0.630</td>\n",
       "      <td>0.764</td>\n",
       "      <td>2</td>\n",
       "      <td>-4.353</td>\n",
       "      <td>1</td>\n",
       "      <td>0.0275</td>\n",
       "      <td>0.363000</td>\n",
       "      <td>0.00000</td>\n",
       "      <td>0.125</td>\n",
       "      <td>0.631</td>\n",
       "      <td>112.098</td>\n",
       "      <td>193760</td>\n",
       "      <td>4</td>\n",
       "      <td>22.62384</td>\n",
       "      <td>10</td>\n",
       "      <td>1</td>\n",
       "    </tr>\n",
       "  </tbody>\n",
       "</table>\n",
       "</div>"
      ],
      "text/plain": [
       "                      track             artist  \\\n",
       "0                 Lucky Man  Montgomery Gentry   \n",
       "1            On The Hotline       Pretty Ricky   \n",
       "2        Clouds Of Dementia         Candlemass   \n",
       "3  Heavy Metal, Raise Hell!      Zwartketterij   \n",
       "4           I Got A Feelin'   Billy Currington   \n",
       "\n",
       "                                    uri  danceability  energy  key  loudness  \\\n",
       "0  spotify:track:4GiXBCUF7H6YfNQsnBRIzl         0.578   0.471    4    -7.270   \n",
       "1  spotify:track:1zyqZONW985Cs4osz9wlsu         0.704   0.854   10    -5.477   \n",
       "2  spotify:track:6cHZf7RbxXCKwEkgAZT4mY         0.162   0.836    9    -3.009   \n",
       "3  spotify:track:2IjBPp2vMeX7LggzRN3iSX         0.188   0.994    4    -3.745   \n",
       "4  spotify:track:1tF370eYXUcWwkIvaq3IGz         0.630   0.764    2    -4.353   \n",
       "\n",
       "   mode  speechiness  acousticness  instrumentalness  liveness  valence  \\\n",
       "0     1       0.0289      0.368000           0.00000     0.159    0.532   \n",
       "1     0       0.1830      0.018500           0.00000     0.148    0.688   \n",
       "2     1       0.0473      0.000111           0.00457     0.174    0.300   \n",
       "3     1       0.1660      0.000007           0.07840     0.192    0.333   \n",
       "4     1       0.0275      0.363000           0.00000     0.125    0.631   \n",
       "\n",
       "     tempo  duration_ms  time_signature  chorus_hit  sections  target  \n",
       "0  133.061       196707               4    30.88059        13       1  \n",
       "1   92.988       242587               4    41.51106        10       1  \n",
       "2   86.964       338893               4    65.32887        13       0  \n",
       "3  148.440       255667               4    58.59528         9       0  \n",
       "4  112.098       193760               4    22.62384        10       1  "
      ]
     },
     "execution_count": 139,
     "metadata": {},
     "output_type": "execute_result"
    }
   ],
   "source": [
    "df_union.head()"
   ]
  },
  {
   "cell_type": "code",
   "execution_count": 140,
   "metadata": {
    "ExecuteTime": {
     "end_time": "2021-12-08T14:50:50.634476Z",
     "start_time": "2021-12-08T14:50:50.628171Z"
    }
   },
   "outputs": [
    {
     "data": {
      "text/plain": [
       "(12270, 19)"
      ]
     },
     "execution_count": 140,
     "metadata": {},
     "output_type": "execute_result"
    }
   ],
   "source": [
    "df_union.shape"
   ]
  },
  {
   "cell_type": "code",
   "execution_count": 141,
   "metadata": {
    "ExecuteTime": {
     "end_time": "2021-12-08T14:50:51.289826Z",
     "start_time": "2021-12-08T14:50:51.274106Z"
    }
   },
   "outputs": [
    {
     "data": {
      "text/plain": [
       "track               0\n",
       "artist              0\n",
       "uri                 0\n",
       "danceability        0\n",
       "energy              0\n",
       "key                 0\n",
       "loudness            0\n",
       "mode                0\n",
       "speechiness         0\n",
       "acousticness        0\n",
       "instrumentalness    0\n",
       "liveness            0\n",
       "valence             0\n",
       "tempo               0\n",
       "duration_ms         0\n",
       "time_signature      0\n",
       "chorus_hit          0\n",
       "sections            0\n",
       "target              0\n",
       "dtype: int64"
      ]
     },
     "execution_count": 141,
     "metadata": {},
     "output_type": "execute_result"
    }
   ],
   "source": [
    "#Verificando se existem dados nulos no dataset\n",
    "pd.isnull(df_union).sum()"
   ]
  },
  {
   "cell_type": "markdown",
   "metadata": {},
   "source": [
    "***\n",
    "O campo **'uri'** não possui muito valor para nossa análise, já que não teremos mais nenhum cruzamento de dados. Portando iremos removelo.\n",
    "***"
   ]
  },
  {
   "cell_type": "code",
   "execution_count": 142,
   "metadata": {
    "ExecuteTime": {
     "end_time": "2021-12-08T14:50:52.699233Z",
     "start_time": "2021-12-08T14:50:52.686719Z"
    }
   },
   "outputs": [],
   "source": [
    "#Removendo a coluna uri\n",
    "df_union.drop(['uri'],axis=1,inplace=True)"
   ]
  },
  {
   "cell_type": "code",
   "execution_count": 143,
   "metadata": {
    "ExecuteTime": {
     "end_time": "2021-12-08T14:50:53.374079Z",
     "start_time": "2021-12-08T14:50:53.344592Z"
    }
   },
   "outputs": [
    {
     "data": {
      "text/html": [
       "<div>\n",
       "<style scoped>\n",
       "    .dataframe tbody tr th:only-of-type {\n",
       "        vertical-align: middle;\n",
       "    }\n",
       "\n",
       "    .dataframe tbody tr th {\n",
       "        vertical-align: top;\n",
       "    }\n",
       "\n",
       "    .dataframe thead th {\n",
       "        text-align: right;\n",
       "    }\n",
       "</style>\n",
       "<table border=\"1\" class=\"dataframe\">\n",
       "  <thead>\n",
       "    <tr style=\"text-align: right;\">\n",
       "      <th></th>\n",
       "      <th>track</th>\n",
       "      <th>artist</th>\n",
       "      <th>danceability</th>\n",
       "      <th>energy</th>\n",
       "      <th>key</th>\n",
       "      <th>loudness</th>\n",
       "      <th>mode</th>\n",
       "      <th>speechiness</th>\n",
       "      <th>acousticness</th>\n",
       "      <th>instrumentalness</th>\n",
       "      <th>liveness</th>\n",
       "      <th>valence</th>\n",
       "      <th>tempo</th>\n",
       "      <th>duration_ms</th>\n",
       "      <th>time_signature</th>\n",
       "      <th>chorus_hit</th>\n",
       "      <th>sections</th>\n",
       "      <th>target</th>\n",
       "    </tr>\n",
       "  </thead>\n",
       "  <tbody>\n",
       "    <tr>\n",
       "      <th>0</th>\n",
       "      <td>Lucky Man</td>\n",
       "      <td>Montgomery Gentry</td>\n",
       "      <td>0.578</td>\n",
       "      <td>0.471</td>\n",
       "      <td>4</td>\n",
       "      <td>-7.270</td>\n",
       "      <td>1</td>\n",
       "      <td>0.0289</td>\n",
       "      <td>0.368000</td>\n",
       "      <td>0.00000</td>\n",
       "      <td>0.159</td>\n",
       "      <td>0.532</td>\n",
       "      <td>133.061</td>\n",
       "      <td>196707</td>\n",
       "      <td>4</td>\n",
       "      <td>30.88059</td>\n",
       "      <td>13</td>\n",
       "      <td>1</td>\n",
       "    </tr>\n",
       "    <tr>\n",
       "      <th>1</th>\n",
       "      <td>On The Hotline</td>\n",
       "      <td>Pretty Ricky</td>\n",
       "      <td>0.704</td>\n",
       "      <td>0.854</td>\n",
       "      <td>10</td>\n",
       "      <td>-5.477</td>\n",
       "      <td>0</td>\n",
       "      <td>0.1830</td>\n",
       "      <td>0.018500</td>\n",
       "      <td>0.00000</td>\n",
       "      <td>0.148</td>\n",
       "      <td>0.688</td>\n",
       "      <td>92.988</td>\n",
       "      <td>242587</td>\n",
       "      <td>4</td>\n",
       "      <td>41.51106</td>\n",
       "      <td>10</td>\n",
       "      <td>1</td>\n",
       "    </tr>\n",
       "    <tr>\n",
       "      <th>2</th>\n",
       "      <td>Clouds Of Dementia</td>\n",
       "      <td>Candlemass</td>\n",
       "      <td>0.162</td>\n",
       "      <td>0.836</td>\n",
       "      <td>9</td>\n",
       "      <td>-3.009</td>\n",
       "      <td>1</td>\n",
       "      <td>0.0473</td>\n",
       "      <td>0.000111</td>\n",
       "      <td>0.00457</td>\n",
       "      <td>0.174</td>\n",
       "      <td>0.300</td>\n",
       "      <td>86.964</td>\n",
       "      <td>338893</td>\n",
       "      <td>4</td>\n",
       "      <td>65.32887</td>\n",
       "      <td>13</td>\n",
       "      <td>0</td>\n",
       "    </tr>\n",
       "    <tr>\n",
       "      <th>3</th>\n",
       "      <td>Heavy Metal, Raise Hell!</td>\n",
       "      <td>Zwartketterij</td>\n",
       "      <td>0.188</td>\n",
       "      <td>0.994</td>\n",
       "      <td>4</td>\n",
       "      <td>-3.745</td>\n",
       "      <td>1</td>\n",
       "      <td>0.1660</td>\n",
       "      <td>0.000007</td>\n",
       "      <td>0.07840</td>\n",
       "      <td>0.192</td>\n",
       "      <td>0.333</td>\n",
       "      <td>148.440</td>\n",
       "      <td>255667</td>\n",
       "      <td>4</td>\n",
       "      <td>58.59528</td>\n",
       "      <td>9</td>\n",
       "      <td>0</td>\n",
       "    </tr>\n",
       "    <tr>\n",
       "      <th>4</th>\n",
       "      <td>I Got A Feelin'</td>\n",
       "      <td>Billy Currington</td>\n",
       "      <td>0.630</td>\n",
       "      <td>0.764</td>\n",
       "      <td>2</td>\n",
       "      <td>-4.353</td>\n",
       "      <td>1</td>\n",
       "      <td>0.0275</td>\n",
       "      <td>0.363000</td>\n",
       "      <td>0.00000</td>\n",
       "      <td>0.125</td>\n",
       "      <td>0.631</td>\n",
       "      <td>112.098</td>\n",
       "      <td>193760</td>\n",
       "      <td>4</td>\n",
       "      <td>22.62384</td>\n",
       "      <td>10</td>\n",
       "      <td>1</td>\n",
       "    </tr>\n",
       "  </tbody>\n",
       "</table>\n",
       "</div>"
      ],
      "text/plain": [
       "                      track             artist  danceability  energy  key  \\\n",
       "0                 Lucky Man  Montgomery Gentry         0.578   0.471    4   \n",
       "1            On The Hotline       Pretty Ricky         0.704   0.854   10   \n",
       "2        Clouds Of Dementia         Candlemass         0.162   0.836    9   \n",
       "3  Heavy Metal, Raise Hell!      Zwartketterij         0.188   0.994    4   \n",
       "4           I Got A Feelin'   Billy Currington         0.630   0.764    2   \n",
       "\n",
       "   loudness  mode  speechiness  acousticness  instrumentalness  liveness  \\\n",
       "0    -7.270     1       0.0289      0.368000           0.00000     0.159   \n",
       "1    -5.477     0       0.1830      0.018500           0.00000     0.148   \n",
       "2    -3.009     1       0.0473      0.000111           0.00457     0.174   \n",
       "3    -3.745     1       0.1660      0.000007           0.07840     0.192   \n",
       "4    -4.353     1       0.0275      0.363000           0.00000     0.125   \n",
       "\n",
       "   valence    tempo  duration_ms  time_signature  chorus_hit  sections  target  \n",
       "0    0.532  133.061       196707               4    30.88059        13       1  \n",
       "1    0.688   92.988       242587               4    41.51106        10       1  \n",
       "2    0.300   86.964       338893               4    65.32887        13       0  \n",
       "3    0.333  148.440       255667               4    58.59528         9       0  \n",
       "4    0.631  112.098       193760               4    22.62384        10       1  "
      ]
     },
     "execution_count": 143,
     "metadata": {},
     "output_type": "execute_result"
    }
   ],
   "source": [
    "df_union.head()"
   ]
  },
  {
   "cell_type": "markdown",
   "metadata": {
    "ExecuteTime": {
     "end_time": "2021-12-08T01:44:24.946545Z",
     "start_time": "2021-12-08T01:44:24.941369Z"
    }
   },
   "source": [
    "# <font color = 'orange'> Ánalise Descritiva </font>"
   ]
  },
  {
   "cell_type": "code",
   "execution_count": 144,
   "metadata": {
    "ExecuteTime": {
     "end_time": "2021-12-08T14:50:54.809093Z",
     "start_time": "2021-12-08T14:50:54.797731Z"
    }
   },
   "outputs": [
    {
     "data": {
      "text/plain": [
       "0.5560876120619401"
      ]
     },
     "execution_count": 144,
     "metadata": {},
     "output_type": "execute_result"
    }
   ],
   "source": [
    "#Estatisticas descritivas gerais do nosso dataset\n",
    "df_union['danceability'].mean()"
   ]
  },
  {
   "cell_type": "code",
   "execution_count": 145,
   "metadata": {
    "ExecuteTime": {
     "end_time": "2021-12-08T14:50:55.544938Z",
     "start_time": "2021-12-08T14:50:55.439967Z"
    }
   },
   "outputs": [
    {
     "data": {
      "text/html": [
       "<div>\n",
       "<style scoped>\n",
       "    .dataframe tbody tr th:only-of-type {\n",
       "        vertical-align: middle;\n",
       "    }\n",
       "\n",
       "    .dataframe tbody tr th {\n",
       "        vertical-align: top;\n",
       "    }\n",
       "\n",
       "    .dataframe thead th {\n",
       "        text-align: right;\n",
       "    }\n",
       "</style>\n",
       "<table border=\"1\" class=\"dataframe\">\n",
       "  <thead>\n",
       "    <tr style=\"text-align: right;\">\n",
       "      <th></th>\n",
       "      <th>danceability</th>\n",
       "      <th>energy</th>\n",
       "      <th>key</th>\n",
       "      <th>loudness</th>\n",
       "      <th>mode</th>\n",
       "      <th>speechiness</th>\n",
       "      <th>acousticness</th>\n",
       "      <th>instrumentalness</th>\n",
       "      <th>liveness</th>\n",
       "      <th>valence</th>\n",
       "      <th>tempo</th>\n",
       "      <th>duration_ms</th>\n",
       "      <th>time_signature</th>\n",
       "      <th>chorus_hit</th>\n",
       "      <th>sections</th>\n",
       "      <th>target</th>\n",
       "    </tr>\n",
       "  </thead>\n",
       "  <tbody>\n",
       "    <tr>\n",
       "      <th>count</th>\n",
       "      <td>12270.000000</td>\n",
       "      <td>12270.000000</td>\n",
       "      <td>12270.000000</td>\n",
       "      <td>12270.000000</td>\n",
       "      <td>12270.000000</td>\n",
       "      <td>12270.000000</td>\n",
       "      <td>12270.000000</td>\n",
       "      <td>12270.000000</td>\n",
       "      <td>12270.000000</td>\n",
       "      <td>12270.000000</td>\n",
       "      <td>12270.000000</td>\n",
       "      <td>1.227000e+04</td>\n",
       "      <td>12270.000000</td>\n",
       "      <td>12270.000000</td>\n",
       "      <td>12270.000000</td>\n",
       "      <td>12270.00000</td>\n",
       "    </tr>\n",
       "    <tr>\n",
       "      <th>mean</th>\n",
       "      <td>0.556088</td>\n",
       "      <td>0.680560</td>\n",
       "      <td>5.280114</td>\n",
       "      <td>-7.522540</td>\n",
       "      <td>0.645314</td>\n",
       "      <td>0.095310</td>\n",
       "      <td>0.215706</td>\n",
       "      <td>0.158413</td>\n",
       "      <td>0.196432</td>\n",
       "      <td>0.462172</td>\n",
       "      <td>121.999324</td>\n",
       "      <td>2.469773e+05</td>\n",
       "      <td>3.922820</td>\n",
       "      <td>40.887651</td>\n",
       "      <td>10.670823</td>\n",
       "      <td>0.50000</td>\n",
       "    </tr>\n",
       "    <tr>\n",
       "      <th>std</th>\n",
       "      <td>0.190986</td>\n",
       "      <td>0.239687</td>\n",
       "      <td>3.586004</td>\n",
       "      <td>5.172085</td>\n",
       "      <td>0.478438</td>\n",
       "      <td>0.096203</td>\n",
       "      <td>0.296671</td>\n",
       "      <td>0.310655</td>\n",
       "      <td>0.164153</td>\n",
       "      <td>0.250751</td>\n",
       "      <td>30.008028</td>\n",
       "      <td>1.151325e+05</td>\n",
       "      <td>0.390605</td>\n",
       "      <td>19.895327</td>\n",
       "      <td>4.841202</td>\n",
       "      <td>0.50002</td>\n",
       "    </tr>\n",
       "    <tr>\n",
       "      <th>min</th>\n",
       "      <td>0.058800</td>\n",
       "      <td>0.000251</td>\n",
       "      <td>0.000000</td>\n",
       "      <td>-47.327000</td>\n",
       "      <td>0.000000</td>\n",
       "      <td>0.022400</td>\n",
       "      <td>0.000000</td>\n",
       "      <td>0.000000</td>\n",
       "      <td>0.016700</td>\n",
       "      <td>0.000000</td>\n",
       "      <td>39.369000</td>\n",
       "      <td>1.592000e+04</td>\n",
       "      <td>0.000000</td>\n",
       "      <td>0.000000</td>\n",
       "      <td>1.000000</td>\n",
       "      <td>0.00000</td>\n",
       "    </tr>\n",
       "    <tr>\n",
       "      <th>25%</th>\n",
       "      <td>0.432000</td>\n",
       "      <td>0.548000</td>\n",
       "      <td>2.000000</td>\n",
       "      <td>-8.375000</td>\n",
       "      <td>0.000000</td>\n",
       "      <td>0.037325</td>\n",
       "      <td>0.006072</td>\n",
       "      <td>0.000000</td>\n",
       "      <td>0.095300</td>\n",
       "      <td>0.258000</td>\n",
       "      <td>97.699250</td>\n",
       "      <td>1.993870e+05</td>\n",
       "      <td>4.000000</td>\n",
       "      <td>27.824750</td>\n",
       "      <td>8.000000</td>\n",
       "      <td>0.00000</td>\n",
       "    </tr>\n",
       "    <tr>\n",
       "      <th>50%</th>\n",
       "      <td>0.573000</td>\n",
       "      <td>0.727000</td>\n",
       "      <td>5.000000</td>\n",
       "      <td>-6.069500</td>\n",
       "      <td>1.000000</td>\n",
       "      <td>0.055100</td>\n",
       "      <td>0.063200</td>\n",
       "      <td>0.000019</td>\n",
       "      <td>0.128000</td>\n",
       "      <td>0.455000</td>\n",
       "      <td>120.082500</td>\n",
       "      <td>2.288465e+05</td>\n",
       "      <td>4.000000</td>\n",
       "      <td>36.175345</td>\n",
       "      <td>10.000000</td>\n",
       "      <td>0.50000</td>\n",
       "    </tr>\n",
       "    <tr>\n",
       "      <th>75%</th>\n",
       "      <td>0.697000</td>\n",
       "      <td>0.871000</td>\n",
       "      <td>8.000000</td>\n",
       "      <td>-4.585000</td>\n",
       "      <td>1.000000</td>\n",
       "      <td>0.109000</td>\n",
       "      <td>0.312000</td>\n",
       "      <td>0.051150</td>\n",
       "      <td>0.257000</td>\n",
       "      <td>0.659000</td>\n",
       "      <td>141.316000</td>\n",
       "      <td>2.692170e+05</td>\n",
       "      <td>4.000000</td>\n",
       "      <td>48.157528</td>\n",
       "      <td>12.000000</td>\n",
       "      <td>1.00000</td>\n",
       "    </tr>\n",
       "    <tr>\n",
       "      <th>max</th>\n",
       "      <td>0.986000</td>\n",
       "      <td>0.999000</td>\n",
       "      <td>11.000000</td>\n",
       "      <td>1.137000</td>\n",
       "      <td>1.000000</td>\n",
       "      <td>0.956000</td>\n",
       "      <td>0.996000</td>\n",
       "      <td>0.998000</td>\n",
       "      <td>0.987000</td>\n",
       "      <td>0.982000</td>\n",
       "      <td>213.233000</td>\n",
       "      <td>4.170227e+06</td>\n",
       "      <td>5.000000</td>\n",
       "      <td>262.615400</td>\n",
       "      <td>169.000000</td>\n",
       "      <td>1.00000</td>\n",
       "    </tr>\n",
       "  </tbody>\n",
       "</table>\n",
       "</div>"
      ],
      "text/plain": [
       "       danceability        energy           key      loudness          mode  \\\n",
       "count  12270.000000  12270.000000  12270.000000  12270.000000  12270.000000   \n",
       "mean       0.556088      0.680560      5.280114     -7.522540      0.645314   \n",
       "std        0.190986      0.239687      3.586004      5.172085      0.478438   \n",
       "min        0.058800      0.000251      0.000000    -47.327000      0.000000   \n",
       "25%        0.432000      0.548000      2.000000     -8.375000      0.000000   \n",
       "50%        0.573000      0.727000      5.000000     -6.069500      1.000000   \n",
       "75%        0.697000      0.871000      8.000000     -4.585000      1.000000   \n",
       "max        0.986000      0.999000     11.000000      1.137000      1.000000   \n",
       "\n",
       "        speechiness  acousticness  instrumentalness      liveness  \\\n",
       "count  12270.000000  12270.000000      12270.000000  12270.000000   \n",
       "mean       0.095310      0.215706          0.158413      0.196432   \n",
       "std        0.096203      0.296671          0.310655      0.164153   \n",
       "min        0.022400      0.000000          0.000000      0.016700   \n",
       "25%        0.037325      0.006072          0.000000      0.095300   \n",
       "50%        0.055100      0.063200          0.000019      0.128000   \n",
       "75%        0.109000      0.312000          0.051150      0.257000   \n",
       "max        0.956000      0.996000          0.998000      0.987000   \n",
       "\n",
       "            valence         tempo   duration_ms  time_signature    chorus_hit  \\\n",
       "count  12270.000000  12270.000000  1.227000e+04    12270.000000  12270.000000   \n",
       "mean       0.462172    121.999324  2.469773e+05        3.922820     40.887651   \n",
       "std        0.250751     30.008028  1.151325e+05        0.390605     19.895327   \n",
       "min        0.000000     39.369000  1.592000e+04        0.000000      0.000000   \n",
       "25%        0.258000     97.699250  1.993870e+05        4.000000     27.824750   \n",
       "50%        0.455000    120.082500  2.288465e+05        4.000000     36.175345   \n",
       "75%        0.659000    141.316000  2.692170e+05        4.000000     48.157528   \n",
       "max        0.982000    213.233000  4.170227e+06        5.000000    262.615400   \n",
       "\n",
       "           sections       target  \n",
       "count  12270.000000  12270.00000  \n",
       "mean      10.670823      0.50000  \n",
       "std        4.841202      0.50002  \n",
       "min        1.000000      0.00000  \n",
       "25%        8.000000      0.00000  \n",
       "50%       10.000000      0.50000  \n",
       "75%       12.000000      1.00000  \n",
       "max      169.000000      1.00000  "
      ]
     },
     "execution_count": 145,
     "metadata": {},
     "output_type": "execute_result"
    }
   ],
   "source": [
    "#Usando o Describe pra trazer todas as estatisticas principais para descrever o dataset\n",
    "df_union.describe()"
   ]
  },
  {
   "cell_type": "code",
   "execution_count": 146,
   "metadata": {
    "ExecuteTime": {
     "end_time": "2021-12-08T14:50:56.111260Z",
     "start_time": "2021-12-08T14:50:56.105336Z"
    }
   },
   "outputs": [
    {
     "data": {
      "text/plain": [
       "0.5560876120619401"
      ]
     },
     "execution_count": 146,
     "metadata": {},
     "output_type": "execute_result"
    }
   ],
   "source": [
    "# Descrevendo média para uma coluna\n",
    "df_union['danceability'].mean()"
   ]
  },
  {
   "cell_type": "code",
   "execution_count": 147,
   "metadata": {
    "ExecuteTime": {
     "end_time": "2021-12-08T14:50:56.854139Z",
     "start_time": "2021-12-08T14:50:56.772868Z"
    }
   },
   "outputs": [
    {
     "data": {
      "text/html": [
       "<div>\n",
       "<style scoped>\n",
       "    .dataframe tbody tr th:only-of-type {\n",
       "        vertical-align: middle;\n",
       "    }\n",
       "\n",
       "    .dataframe tbody tr th {\n",
       "        vertical-align: top;\n",
       "    }\n",
       "\n",
       "    .dataframe thead th {\n",
       "        text-align: right;\n",
       "    }\n",
       "</style>\n",
       "<table border=\"1\" class=\"dataframe\">\n",
       "  <thead>\n",
       "    <tr style=\"text-align: right;\">\n",
       "      <th></th>\n",
       "      <th>danceability</th>\n",
       "      <th>energy</th>\n",
       "      <th>key</th>\n",
       "      <th>loudness</th>\n",
       "      <th>mode</th>\n",
       "      <th>speechiness</th>\n",
       "      <th>acousticness</th>\n",
       "      <th>instrumentalness</th>\n",
       "      <th>liveness</th>\n",
       "      <th>valence</th>\n",
       "      <th>tempo</th>\n",
       "      <th>duration_ms</th>\n",
       "      <th>time_signature</th>\n",
       "      <th>chorus_hit</th>\n",
       "      <th>sections</th>\n",
       "      <th>target</th>\n",
       "    </tr>\n",
       "  </thead>\n",
       "  <tbody>\n",
       "    <tr>\n",
       "      <th>count</th>\n",
       "      <td>12270.000000</td>\n",
       "      <td>12270.000000</td>\n",
       "      <td>12270.000000</td>\n",
       "      <td>12270.000000</td>\n",
       "      <td>12270.000000</td>\n",
       "      <td>12270.000000</td>\n",
       "      <td>12270.000000</td>\n",
       "      <td>12270.000000</td>\n",
       "      <td>12270.000000</td>\n",
       "      <td>12270.000000</td>\n",
       "      <td>12270.000000</td>\n",
       "      <td>1.227000e+04</td>\n",
       "      <td>12270.000000</td>\n",
       "      <td>12270.000000</td>\n",
       "      <td>12270.000000</td>\n",
       "      <td>12270.00000</td>\n",
       "    </tr>\n",
       "    <tr>\n",
       "      <th>mean</th>\n",
       "      <td>0.556088</td>\n",
       "      <td>0.680560</td>\n",
       "      <td>5.280114</td>\n",
       "      <td>-7.522540</td>\n",
       "      <td>0.645314</td>\n",
       "      <td>0.095310</td>\n",
       "      <td>0.215706</td>\n",
       "      <td>0.158413</td>\n",
       "      <td>0.196432</td>\n",
       "      <td>0.462172</td>\n",
       "      <td>121.999324</td>\n",
       "      <td>2.469773e+05</td>\n",
       "      <td>3.922820</td>\n",
       "      <td>40.887651</td>\n",
       "      <td>10.670823</td>\n",
       "      <td>0.50000</td>\n",
       "    </tr>\n",
       "    <tr>\n",
       "      <th>std</th>\n",
       "      <td>0.190986</td>\n",
       "      <td>0.239687</td>\n",
       "      <td>3.586004</td>\n",
       "      <td>5.172085</td>\n",
       "      <td>0.478438</td>\n",
       "      <td>0.096203</td>\n",
       "      <td>0.296671</td>\n",
       "      <td>0.310655</td>\n",
       "      <td>0.164153</td>\n",
       "      <td>0.250751</td>\n",
       "      <td>30.008028</td>\n",
       "      <td>1.151325e+05</td>\n",
       "      <td>0.390605</td>\n",
       "      <td>19.895327</td>\n",
       "      <td>4.841202</td>\n",
       "      <td>0.50002</td>\n",
       "    </tr>\n",
       "    <tr>\n",
       "      <th>min</th>\n",
       "      <td>0.058800</td>\n",
       "      <td>0.000251</td>\n",
       "      <td>0.000000</td>\n",
       "      <td>-47.327000</td>\n",
       "      <td>0.000000</td>\n",
       "      <td>0.022400</td>\n",
       "      <td>0.000000</td>\n",
       "      <td>0.000000</td>\n",
       "      <td>0.016700</td>\n",
       "      <td>0.000000</td>\n",
       "      <td>39.369000</td>\n",
       "      <td>1.592000e+04</td>\n",
       "      <td>0.000000</td>\n",
       "      <td>0.000000</td>\n",
       "      <td>1.000000</td>\n",
       "      <td>0.00000</td>\n",
       "    </tr>\n",
       "    <tr>\n",
       "      <th>25%</th>\n",
       "      <td>0.432000</td>\n",
       "      <td>0.548000</td>\n",
       "      <td>2.000000</td>\n",
       "      <td>-8.375000</td>\n",
       "      <td>0.000000</td>\n",
       "      <td>0.037325</td>\n",
       "      <td>0.006072</td>\n",
       "      <td>0.000000</td>\n",
       "      <td>0.095300</td>\n",
       "      <td>0.258000</td>\n",
       "      <td>97.699250</td>\n",
       "      <td>1.993870e+05</td>\n",
       "      <td>4.000000</td>\n",
       "      <td>27.824750</td>\n",
       "      <td>8.000000</td>\n",
       "      <td>0.00000</td>\n",
       "    </tr>\n",
       "    <tr>\n",
       "      <th>50%</th>\n",
       "      <td>0.573000</td>\n",
       "      <td>0.727000</td>\n",
       "      <td>5.000000</td>\n",
       "      <td>-6.069500</td>\n",
       "      <td>1.000000</td>\n",
       "      <td>0.055100</td>\n",
       "      <td>0.063200</td>\n",
       "      <td>0.000019</td>\n",
       "      <td>0.128000</td>\n",
       "      <td>0.455000</td>\n",
       "      <td>120.082500</td>\n",
       "      <td>2.288465e+05</td>\n",
       "      <td>4.000000</td>\n",
       "      <td>36.175345</td>\n",
       "      <td>10.000000</td>\n",
       "      <td>0.50000</td>\n",
       "    </tr>\n",
       "    <tr>\n",
       "      <th>75%</th>\n",
       "      <td>0.697000</td>\n",
       "      <td>0.871000</td>\n",
       "      <td>8.000000</td>\n",
       "      <td>-4.585000</td>\n",
       "      <td>1.000000</td>\n",
       "      <td>0.109000</td>\n",
       "      <td>0.312000</td>\n",
       "      <td>0.051150</td>\n",
       "      <td>0.257000</td>\n",
       "      <td>0.659000</td>\n",
       "      <td>141.316000</td>\n",
       "      <td>2.692170e+05</td>\n",
       "      <td>4.000000</td>\n",
       "      <td>48.157528</td>\n",
       "      <td>12.000000</td>\n",
       "      <td>1.00000</td>\n",
       "    </tr>\n",
       "    <tr>\n",
       "      <th>max</th>\n",
       "      <td>0.986000</td>\n",
       "      <td>0.999000</td>\n",
       "      <td>11.000000</td>\n",
       "      <td>1.137000</td>\n",
       "      <td>1.000000</td>\n",
       "      <td>0.956000</td>\n",
       "      <td>0.996000</td>\n",
       "      <td>0.998000</td>\n",
       "      <td>0.987000</td>\n",
       "      <td>0.982000</td>\n",
       "      <td>213.233000</td>\n",
       "      <td>4.170227e+06</td>\n",
       "      <td>5.000000</td>\n",
       "      <td>262.615400</td>\n",
       "      <td>169.000000</td>\n",
       "      <td>1.00000</td>\n",
       "    </tr>\n",
       "  </tbody>\n",
       "</table>\n",
       "</div>"
      ],
      "text/plain": [
       "       danceability        energy           key      loudness          mode  \\\n",
       "count  12270.000000  12270.000000  12270.000000  12270.000000  12270.000000   \n",
       "mean       0.556088      0.680560      5.280114     -7.522540      0.645314   \n",
       "std        0.190986      0.239687      3.586004      5.172085      0.478438   \n",
       "min        0.058800      0.000251      0.000000    -47.327000      0.000000   \n",
       "25%        0.432000      0.548000      2.000000     -8.375000      0.000000   \n",
       "50%        0.573000      0.727000      5.000000     -6.069500      1.000000   \n",
       "75%        0.697000      0.871000      8.000000     -4.585000      1.000000   \n",
       "max        0.986000      0.999000     11.000000      1.137000      1.000000   \n",
       "\n",
       "        speechiness  acousticness  instrumentalness      liveness  \\\n",
       "count  12270.000000  12270.000000      12270.000000  12270.000000   \n",
       "mean       0.095310      0.215706          0.158413      0.196432   \n",
       "std        0.096203      0.296671          0.310655      0.164153   \n",
       "min        0.022400      0.000000          0.000000      0.016700   \n",
       "25%        0.037325      0.006072          0.000000      0.095300   \n",
       "50%        0.055100      0.063200          0.000019      0.128000   \n",
       "75%        0.109000      0.312000          0.051150      0.257000   \n",
       "max        0.956000      0.996000          0.998000      0.987000   \n",
       "\n",
       "            valence         tempo   duration_ms  time_signature    chorus_hit  \\\n",
       "count  12270.000000  12270.000000  1.227000e+04    12270.000000  12270.000000   \n",
       "mean       0.462172    121.999324  2.469773e+05        3.922820     40.887651   \n",
       "std        0.250751     30.008028  1.151325e+05        0.390605     19.895327   \n",
       "min        0.000000     39.369000  1.592000e+04        0.000000      0.000000   \n",
       "25%        0.258000     97.699250  1.993870e+05        4.000000     27.824750   \n",
       "50%        0.455000    120.082500  2.288465e+05        4.000000     36.175345   \n",
       "75%        0.659000    141.316000  2.692170e+05        4.000000     48.157528   \n",
       "max        0.982000    213.233000  4.170227e+06        5.000000    262.615400   \n",
       "\n",
       "           sections       target  \n",
       "count  12270.000000  12270.00000  \n",
       "mean      10.670823      0.50000  \n",
       "std        4.841202      0.50002  \n",
       "min        1.000000      0.00000  \n",
       "25%        8.000000      0.00000  \n",
       "50%       10.000000      0.50000  \n",
       "75%       12.000000      1.00000  \n",
       "max      169.000000      1.00000  "
      ]
     },
     "execution_count": 147,
     "metadata": {},
     "output_type": "execute_result"
    }
   ],
   "source": [
    "# Utilizando o método Describe para ter acesso as principais estatisticas descritivas\n",
    "df_union.describe()"
   ]
  },
  {
   "cell_type": "code",
   "execution_count": 148,
   "metadata": {
    "ExecuteTime": {
     "end_time": "2021-12-08T14:50:57.694352Z",
     "start_time": "2021-12-08T14:50:57.402809Z"
    }
   },
   "outputs": [
    {
     "data": {
      "image/png": "[encoded data removed]",
      "text/plain": [
       "<Figure size 720x360 with 1 Axes>"
      ]
     },
     "metadata": {
      "needs_background": "light"
     },
     "output_type": "display_data"
    }
   ],
   "source": [
    "#Plotando um histograma para ter uma analise visual das variaveis\n",
    "sns.histplot(data=df_union,x='danceability',bins=30);"
   ]
  },
  {
   "cell_type": "code",
   "execution_count": 149,
   "metadata": {
    "ExecuteTime": {
     "end_time": "2021-12-08T14:50:59.853092Z",
     "start_time": "2021-12-08T14:50:58.268268Z"
    },
    "scrolled": true
   },
   "outputs": [
    {
     "data": {
      "image/png": "[encoded data removed]",
      "text/plain": [
       "<Figure size 720x720 with 4 Axes>"
      ]
     },
     "metadata": {
      "needs_background": "light"
     },
     "output_type": "display_data"
    }
   ],
   "source": [
    "fig, axs = plt.subplots(2, 2, figsize=(10, 10))\n",
    "\n",
    "sns.histplot(data=df_union, x=\"energy\", kde=True, color=\"skyblue\", ax=axs[0, 0])\n",
    "sns.histplot(data=df_union, x=\"liveness\", kde=True, color=\"olive\", ax=axs[0, 1])\n",
    "sns.histplot(data=df_union, x=\"key\", kde=True, color=\"gold\", ax=axs[1, 0])\n",
    "sns.histplot(data=df_union, x=\"loudness\", kde=True, color=\"teal\", ax=axs[1, 1])\n",
    "\n",
    "\n",
    "plt.show()\n",
    "\n"
   ]
  },
  {
   "cell_type": "markdown",
   "metadata": {
    "ExecuteTime": {
     "end_time": "2021-12-08T02:56:16.815221Z",
     "start_time": "2021-12-08T02:56:16.810400Z"
    }
   },
   "source": [
    "# <font color = 'orange'> Enferência Estatistica </font>"
   ]
  },
  {
   "cell_type": "markdown",
   "metadata": {},
   "source": [
    "## <font color = 'orange'>O que é Arvore de Decisão?</font>"
   ]
  },
  {
   "cell_type": "markdown",
   "metadata": {
    "ExecuteTime": {
     "end_time": "2021-12-08T03:11:14.226667Z",
     "start_time": "2021-12-08T03:11:14.217689Z"
    }
   },
   "source": [
    "<img src=\"images/dog.jpeg\" alt=\"dog\" width=\"400\" height=\"150\" >\n"
   ]
  },
  {
   "cell_type": "markdown",
   "metadata": {},
   "source": [
    "As árvores de decisão representam uma das formas mais simplificadas de um sistema de suporte à decisão. É um método estatístico, de aprendizagem supervisionada, podendo ser utilizado em problemas de classificação e na realização de previsões.\n",
    "A partir de um conjunto de dados existente, o método cria uma representação do conhecimento ali embutido, em formato de árvore. Os nós da árvore são criados a partir das características (features) do conjunto de dados. Obviamente existe uma série de cálculos matemáticos envolvidos na escolha de uma determinada feature como nó em uma determinada posição da árvore. \n",
    "\n",
    "http://web.tecnico.ulisboa.pt/ana.freitas/bioinformatics.ath.cx/bioinformatics.ath.cx/indexf23d.html?id=199\n",
    "\n",
    "<img src=\"images/tree.png\" alt=\"dog\" width=\"400\" height=\"150\" >\n"
   ]
  },
  {
   "cell_type": "markdown",
   "metadata": {
    "ExecuteTime": {
     "end_time": "2021-12-08T03:16:16.427168Z",
     "start_time": "2021-12-08T03:16:16.420835Z"
    }
   },
   "source": [
    "## <font color = 'orange'>O que é uma Random Forest?</font>\n"
   ]
  },
  {
   "cell_type": "markdown",
   "metadata": {},
   "source": [
    "O nome Random Forest faz todo o sentido quando se pensa em seu funcionamento: random significa aleatório, e denota o comportamento do algoritmo ao selecionar subconjuntos de features e montar mini árvores de decisão. Forest significa floresta, já que são geradas várias árvores de decisão.\n",
    "\n",
    "Ou seja, basicamente, o algoritmo possui 4 passos:\n",
    "1. Seleção aleatória de algumas features\n",
    "2. Seleção da feature mais adequada para a posição de nó raiz\n",
    "3. Geração dos nós filhos\n",
    "4. Repete os passos acima até que se atinja a quantidade de árvores desejada\n",
    "\n",
    "Depois que o modelo é gerado, as previsões são feitas a partir de “votações”. Cada mini árvore toma uma decisão a partir dos dados apresentados. A decisão mais votada é a resposta do algoritmo.\n",
    "\n",
    "<img src=\"images/multi_tree.png\" alt=\"dog\" width=\"700\" height=\"400\" >\n"
   ]
  },
  {
   "cell_type": "markdown",
   "metadata": {
    "ExecuteTime": {
     "end_time": "2021-12-08T03:20:07.828830Z",
     "start_time": "2021-12-08T03:20:07.823031Z"
    }
   },
   "source": [
    "## <font color = 'orange'>Implementando Random Forest em Python</font>\n"
   ]
  },
  {
   "cell_type": "code",
   "execution_count": 150,
   "metadata": {
    "ExecuteTime": {
     "end_time": "2021-12-08T14:51:02.988755Z",
     "start_time": "2021-12-08T14:51:02.980869Z"
    }
   },
   "outputs": [],
   "source": [
    "from sklearn.model_selection import train_test_split\n",
    "from sklearn.ensemble import RandomForestClassifier\n",
    "from sklearn.preprocessing import scale"
   ]
  },
  {
   "cell_type": "code",
   "execution_count": 151,
   "metadata": {
    "ExecuteTime": {
     "end_time": "2021-12-08T14:51:04.111676Z",
     "start_time": "2021-12-08T14:51:04.097751Z"
    }
   },
   "outputs": [],
   "source": [
    "features = ['danceability', 'energy', 'key', 'loudness',\n",
    "       'mode', 'speechiness', 'acousticness', 'instrumentalness', 'liveness',\n",
    "       'valence', 'tempo', 'duration_ms', 'time_signature', 'chorus_hit',\n",
    "       'sections']\n",
    "\n",
    "X = df_union[features]\n",
    "y = df_union['target']"
   ]
  },
  {
   "cell_type": "code",
   "execution_count": 152,
   "metadata": {
    "ExecuteTime": {
     "end_time": "2021-12-08T14:51:07.326593Z",
     "start_time": "2021-12-08T14:51:05.165189Z"
    }
   },
   "outputs": [],
   "source": [
    "X_train,X_test,y_train,y_test=train_test_split(X,y,test_size=0.25)\n",
    "RF = RandomForestClassifier()\n",
    "RF.fit(X_train, y_train)\n",
    "y_pred = RF.predict(X_test)"
   ]
  },
  {
   "cell_type": "code",
   "execution_count": 153,
   "metadata": {
    "ExecuteTime": {
     "end_time": "2021-12-08T14:51:08.625334Z",
     "start_time": "2021-12-08T14:51:08.610446Z"
    }
   },
   "outputs": [
    {
     "data": {
      "text/plain": [
       "array([[1226,  264],\n",
       "       [ 204, 1374]])"
      ]
     },
     "execution_count": 153,
     "metadata": {},
     "output_type": "execute_result"
    }
   ],
   "source": [
    "from sklearn import metrics\n",
    "cnf_matrix = metrics.confusion_matrix(y_test, y_pred)\n",
    "cnf_matrix"
   ]
  },
  {
   "cell_type": "code",
   "execution_count": 154,
   "metadata": {
    "ExecuteTime": {
     "end_time": "2021-12-08T14:51:10.013948Z",
     "start_time": "2021-12-08T14:51:09.749624Z"
    }
   },
   "outputs": [
    {
     "data": {
      "image/png": "[encoded data removed]",
      "text/plain": [
       "<Figure size 720x360 with 2 Axes>"
      ]
     },
     "metadata": {
      "needs_background": "light"
     },
     "output_type": "display_data"
    }
   ],
   "source": [
    "#Plotando a Confusion Matrix para melhor visualização\n",
    "mpl.rcParams['figure.figsize']=(10,5)\n",
    "class_names=[0,1] # name  of classes\n",
    "fig, ax = plt.subplots()\n",
    "tick_marks = np.arange(len(class_names))\n",
    "plt.xticks(tick_marks, class_names)\n",
    "plt.yticks(tick_marks, class_names)\n",
    "# create heatmap\n",
    "sns.heatmap(pd.DataFrame(cnf_matrix), annot=True, cmap=\"RdPu\" ,fmt='g')\n",
    "ax.xaxis.set_label_position(\"top\")\n",
    "plt.tight_layout()\n",
    "plt.title('Confusion matrix', y=1.1)\n",
    "plt.ylabel('Valor Real')\n",
    "plt.xlabel('Valor Predito')\n",
    "plt.show()"
   ]
  },
  {
   "cell_type": "code",
   "execution_count": 155,
   "metadata": {
    "ExecuteTime": {
     "end_time": "2021-12-08T14:51:10.913416Z",
     "start_time": "2021-12-08T14:51:10.877231Z"
    }
   },
   "outputs": [],
   "source": [
    "# Criando um dataframe com a importancia de cada feature no Dataset\n",
    "all_songs_feat = RF.feature_importances_\n",
    "df_features = pd.DataFrame(features)\n",
    "df_importancia = pd.DataFrame(all_songs_feat)\n",
    "df_import_variavel = pd.concat([df_features, df_importancia], axis = 1)\n",
    "df_import_variavel.columns = ['Variavel', 'Importancia']\n",
    "df_import_variavel = df_import_variavel.set_index('Variavel')\n",
    "df_import_variavel = df_import_variavel.sort_values(by=['Importancia'], ascending = False)\n"
   ]
  },
  {
   "cell_type": "code",
   "execution_count": 156,
   "metadata": {
    "ExecuteTime": {
     "end_time": "2021-12-08T14:51:11.859420Z",
     "start_time": "2021-12-08T14:51:11.842082Z"
    }
   },
   "outputs": [
    {
     "data": {
      "text/html": [
       "<div>\n",
       "<style scoped>\n",
       "    .dataframe tbody tr th:only-of-type {\n",
       "        vertical-align: middle;\n",
       "    }\n",
       "\n",
       "    .dataframe tbody tr th {\n",
       "        vertical-align: top;\n",
       "    }\n",
       "\n",
       "    .dataframe thead th {\n",
       "        text-align: right;\n",
       "    }\n",
       "</style>\n",
       "<table border=\"1\" class=\"dataframe\">\n",
       "  <thead>\n",
       "    <tr style=\"text-align: right;\">\n",
       "      <th></th>\n",
       "      <th>Importancia</th>\n",
       "    </tr>\n",
       "    <tr>\n",
       "      <th>Variavel</th>\n",
       "      <th></th>\n",
       "    </tr>\n",
       "  </thead>\n",
       "  <tbody>\n",
       "    <tr>\n",
       "      <th>instrumentalness</th>\n",
       "      <td>0.230327</td>\n",
       "    </tr>\n",
       "    <tr>\n",
       "      <th>danceability</th>\n",
       "      <td>0.112098</td>\n",
       "    </tr>\n",
       "    <tr>\n",
       "      <th>loudness</th>\n",
       "      <td>0.111609</td>\n",
       "    </tr>\n",
       "    <tr>\n",
       "      <th>acousticness</th>\n",
       "      <td>0.096108</td>\n",
       "    </tr>\n",
       "    <tr>\n",
       "      <th>energy</th>\n",
       "      <td>0.086780</td>\n",
       "    </tr>\n",
       "    <tr>\n",
       "      <th>duration_ms</th>\n",
       "      <td>0.075006</td>\n",
       "    </tr>\n",
       "    <tr>\n",
       "      <th>valence</th>\n",
       "      <td>0.059137</td>\n",
       "    </tr>\n",
       "    <tr>\n",
       "      <th>speechiness</th>\n",
       "      <td>0.047364</td>\n",
       "    </tr>\n",
       "    <tr>\n",
       "      <th>tempo</th>\n",
       "      <td>0.039886</td>\n",
       "    </tr>\n",
       "    <tr>\n",
       "      <th>liveness</th>\n",
       "      <td>0.038985</td>\n",
       "    </tr>\n",
       "    <tr>\n",
       "      <th>chorus_hit</th>\n",
       "      <td>0.038896</td>\n",
       "    </tr>\n",
       "    <tr>\n",
       "      <th>sections</th>\n",
       "      <td>0.027577</td>\n",
       "    </tr>\n",
       "    <tr>\n",
       "      <th>key</th>\n",
       "      <td>0.022704</td>\n",
       "    </tr>\n",
       "    <tr>\n",
       "      <th>mode</th>\n",
       "      <td>0.006899</td>\n",
       "    </tr>\n",
       "    <tr>\n",
       "      <th>time_signature</th>\n",
       "      <td>0.006624</td>\n",
       "    </tr>\n",
       "  </tbody>\n",
       "</table>\n",
       "</div>"
      ],
      "text/plain": [
       "                  Importancia\n",
       "Variavel                     \n",
       "instrumentalness     0.230327\n",
       "danceability         0.112098\n",
       "loudness             0.111609\n",
       "acousticness         0.096108\n",
       "energy               0.086780\n",
       "duration_ms          0.075006\n",
       "valence              0.059137\n",
       "speechiness          0.047364\n",
       "tempo                0.039886\n",
       "liveness             0.038985\n",
       "chorus_hit           0.038896\n",
       "sections             0.027577\n",
       "key                  0.022704\n",
       "mode                 0.006899\n",
       "time_signature       0.006624"
      ]
     },
     "execution_count": 156,
     "metadata": {},
     "output_type": "execute_result"
    }
   ],
   "source": [
    "all_songs_feat_vars"
   ]
  },
  {
   "cell_type": "code",
   "execution_count": 157,
   "metadata": {
    "ExecuteTime": {
     "end_time": "2021-12-08T14:51:13.000248Z",
     "start_time": "2021-12-08T14:51:12.729503Z"
    }
   },
   "outputs": [
    {
     "data": {
      "image/png": "[encoded data removed]",
      "text/plain": [
       "<Figure size 720x360 with 1 Axes>"
      ]
     },
     "metadata": {
      "needs_background": "light"
     },
     "output_type": "display_data"
    }
   ],
   "source": [
    "all_songs_feat_vars.plot(kind='bar', color = \"purple\", title = \"Features importantes para definir hit and flop \", legend = None)\n",
    "plt.ylabel('Importancia')\n",
    "plt.show()"
   ]
  },
  {
   "cell_type": "code",
   "execution_count": 158,
   "metadata": {
    "ExecuteTime": {
     "end_time": "2021-12-08T14:51:13.842819Z",
     "start_time": "2021-12-08T14:51:13.825571Z"
    }
   },
   "outputs": [
    {
     "name": "stdout",
     "output_type": "stream",
     "text": [
      "Accuracy: 0.847457627118644\n",
      "Precision: 0.8388278388278388\n",
      "Recall: 0.870722433460076\n"
     ]
    }
   ],
   "source": [
    "print(\"Accuracy:\",metrics.accuracy_score(y_test, y_pred))\n",
    "print(\"Precision:\",metrics.precision_score(y_test, y_x1pred))\n",
    "print(\"Recall:\",metrics.recall_score(y_test, y_pred))"
   ]
  },
  {
   "cell_type": "code",
   "execution_count": null,
   "metadata": {},
   "outputs": [],
   "source": []
  }
 ],
 "metadata": {
  "kernelspec": {
   "display_name": "Python 3",
   "language": "python",
   "name": "python3"
  },
  "language_info": {
   "codemirror_mode": {
    "name": "ipython",
    "version": 3
   },
   "file_extension": ".py",
   "mimetype": "text/x-python",
   "name": "python",
   "nbconvert_exporter": "python",
   "pygments_lexer": "ipython3",
   "version": "3.8.5"
  },
  "toc": {
   "base_numbering": 1,
   "nav_menu": {},
   "number_sections": true,
   "sideBar": true,
   "skip_h1_title": false,
   "title_cell": "Table of Contents",
   "title_sidebar": "Contents",
   "toc_cell": false,
   "toc_position": {},
   "toc_section_display": true,
   "toc_window_display": false
  }
 },
 "nbformat": 4,
 "nbformat_minor": 4
}
